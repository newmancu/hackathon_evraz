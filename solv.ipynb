{
 "metadata": {
  "language_info": {
   "codemirror_mode": {
    "name": "ipython",
    "version": 3
   },
   "file_extension": ".py",
   "mimetype": "text/x-python",
   "name": "python",
   "nbconvert_exporter": "python",
   "pygments_lexer": "ipython3",
   "version": "3.7.7-final"
  },
  "orig_nbformat": 2,
  "kernelspec": {
   "name": "python377jvsc74a57bd06b254dff939438eb0d73a8029d092b97eca71dfc9d160a1f4c529d239c425b7a",
   "display_name": "Python 3.7.7 64-bit (conda)"
  }
 },
 "nbformat": 4,
 "nbformat_minor": 2,
 "cells": [
  {
   "cell_type": "code",
   "execution_count": 2,
   "metadata": {},
   "outputs": [],
   "source": [
    "from matplotlib import pyplot as plt\n",
    "from scipy import stats\n",
    "import numpy as np\n",
    "import pandas as pd\n",
    "import seaborn as sns\n",
    "%matplotlib inline"
   ]
  },
  {
   "cell_type": "code",
   "execution_count": 3,
   "metadata": {},
   "outputs": [],
   "source": [
    "from sklearn.ensemble import RandomForestRegressor\n",
    "from sklearn.ensemble import GradientBoostingRegressor\n",
    "from sklearn.metrics import mean_absolute_error\n",
    "from sklearn.metrics import r2_score\n",
    "from sklearn.model_selection import cross_val_score\n",
    "from sklearn.pipeline import Pipeline\n",
    "from sklearn.preprocessing import OneHotEncoder\n",
    "from sklearn.preprocessing import StandardScaler\n",
    "from sklearn.compose import ColumnTransformer\n",
    "from sklearn.model_selection import train_test_split"
   ]
  },
  {
   "cell_type": "code",
   "execution_count": 4,
   "metadata": {},
   "outputs": [],
   "source": [
    "trdf = pd.read_csv('data/Train.csv', sep=',', index_col=0)\n",
    "tedf = pd.read_csv('data/Test.csv', sep=',', index_col=0)"
   ]
  },
  {
   "cell_type": "code",
   "execution_count": 5,
   "metadata": {},
   "outputs": [],
   "source": [
    "df = trdf.fillna(trdf.mean(axis=0))"
   ]
  },
  {
   "cell_type": "code",
   "execution_count": 6,
   "metadata": {},
   "outputs": [],
   "source": [
    "X_train = df.iloc[:, :-1]\n",
    "Y_train = df.iloc[:, -1]\n"
   ]
  },
  {
   "cell_type": "code",
   "execution_count": 48,
   "metadata": {},
   "outputs": [],
   "source": [
    "class MyTransofrmer:\n",
    "    def __init__(self, categ_indexes,num_indexes):\n",
    "        self.categ_indexes = categ_indexes\n",
    "        self.num_indexes = num_indexes\n",
    "\n",
    "    def fit_transform(self, X):\n",
    "        return self.transform(X)\n",
    "    \n",
    "    def transform(self, X):\n",
    "        X = np.array(X)\n",
    "        date = pd.DatetimeIndex(X[:, self.categ_indexes].flatten()).year.values.reshape(-1,1)\n",
    "        nums = X[:, self.num_indexes]\n",
    "        return np.concatenate((date, nums), axis=1)"
   ]
  },
  {
   "cell_type": "code",
   "execution_count": 49,
   "metadata": {},
   "outputs": [],
   "source": [
    "categ_indexes = [0]\n",
    "num_indexes = np.arange(1,X_train.shape[1])\n",
    "feature_transformer = MyTransofrmer(categ_indexes,num_indexes)"
   ]
  },
  {
   "cell_type": "code",
   "execution_count": 50,
   "metadata": {},
   "outputs": [],
   "source": [
    "N = 100000\n",
    "x = feature_transformer.fit_transform(X_train)\n",
    "x_train, x_test, y_train, y_test = train_test_split(x[:N, :], Y_train.values[:N], test_size=.2, random_state=123)"
   ]
  },
  {
   "cell_type": "code",
   "execution_count": 51,
   "metadata": {},
   "outputs": [],
   "source": [
    "model = Pipeline([\n",
    "    ('pre', StandardScaler()),\n",
    "    ('forest', RandomForestRegressor(\n",
    "        n_estimators=200, \n",
    "        max_features=x.shape[1]//3))\n",
    "])"
   ]
  },
  {
   "cell_type": "code",
   "execution_count": 52,
   "metadata": {},
   "outputs": [
    {
     "output_type": "stream",
     "name": "stdout",
     "text": [
      "Wall time: 30.8 s\n"
     ]
    },
    {
     "output_type": "execute_result",
     "data": {
      "text/plain": [
       "Pipeline(steps=[('pre', StandardScaler()),\n",
       "                ('forest',\n",
       "                 RandomForestRegressor(max_features=7, n_estimators=150))])"
      ]
     },
     "metadata": {},
     "execution_count": 52
    }
   ],
   "source": [
    "%%time\n",
    "model.fit(x, Y_train.values)"
   ]
  },
  {
   "cell_type": "code",
   "execution_count": 53,
   "metadata": {},
   "outputs": [
    {
     "output_type": "stream",
     "name": "stdout",
     "text": [
      "r^2 = 0.9473951368429007; mae = 566884.4730289682\n"
     ]
    }
   ],
   "source": [
    "preds = model.predict(x_test)\n",
    "r2 = r2_score(y_test, preds)\n",
    "mae = mean_absolute_error(y_test, preds)\n",
    "print(f\"r^2 = {r2}; mae = {mae}\")"
   ]
  },
  {
   "cell_type": "code",
   "execution_count": 54,
   "metadata": {},
   "outputs": [],
   "source": [
    "X = tedf.fillna(tedf.mean(axis=0))"
   ]
  },
  {
   "cell_type": "code",
   "execution_count": 55,
   "metadata": {},
   "outputs": [],
   "source": [
    "X_test = feature_transformer.transform(X)"
   ]
  },
  {
   "cell_type": "code",
   "execution_count": 59,
   "metadata": {},
   "outputs": [
    {
     "output_type": "execute_result",
     "data": {
      "text/plain": [
       "              0\n",
       "0  3.133553e+06\n",
       "1  2.729753e+06\n",
       "2  5.584553e+06\n",
       "3  2.121393e+06\n",
       "4  3.328387e+06"
      ],
      "text/html": "<div>\n<style scoped>\n    .dataframe tbody tr th:only-of-type {\n        vertical-align: middle;\n    }\n\n    .dataframe tbody tr th {\n        vertical-align: top;\n    }\n\n    .dataframe thead th {\n        text-align: right;\n    }\n</style>\n<table border=\"1\" class=\"dataframe\">\n  <thead>\n    <tr style=\"text-align: right;\">\n      <th></th>\n      <th>0</th>\n    </tr>\n  </thead>\n  <tbody>\n    <tr>\n      <th>0</th>\n      <td>3.133553e+06</td>\n    </tr>\n    <tr>\n      <th>1</th>\n      <td>2.729753e+06</td>\n    </tr>\n    <tr>\n      <th>2</th>\n      <td>5.584553e+06</td>\n    </tr>\n    <tr>\n      <th>3</th>\n      <td>2.121393e+06</td>\n    </tr>\n    <tr>\n      <th>4</th>\n      <td>3.328387e+06</td>\n    </tr>\n  </tbody>\n</table>\n</div>"
     },
     "metadata": {},
     "execution_count": 59
    }
   ],
   "source": [
    "test_preds = model.predict(X_test)\n",
    "pd_test_preds = pd.DataFrame(test_preds)\n",
    "pd_test_preds.head()"
   ]
  },
  {
   "cell_type": "code",
   "execution_count": 67,
   "metadata": {},
   "outputs": [
    {
     "output_type": "execute_result",
     "data": {
      "text/plain": [
       "               price\n",
       "id                  \n",
       "100000  3.133553e+06\n",
       "100001  2.729753e+06\n",
       "100002  5.584553e+06\n",
       "100003  2.121393e+06\n",
       "100004  3.328387e+06"
      ],
      "text/html": "<div>\n<style scoped>\n    .dataframe tbody tr th:only-of-type {\n        vertical-align: middle;\n    }\n\n    .dataframe tbody tr th {\n        vertical-align: top;\n    }\n\n    .dataframe thead th {\n        text-align: right;\n    }\n</style>\n<table border=\"1\" class=\"dataframe\">\n  <thead>\n    <tr style=\"text-align: right;\">\n      <th></th>\n      <th>price</th>\n    </tr>\n    <tr>\n      <th>id</th>\n      <th></th>\n    </tr>\n  </thead>\n  <tbody>\n    <tr>\n      <th>100000</th>\n      <td>3.133553e+06</td>\n    </tr>\n    <tr>\n      <th>100001</th>\n      <td>2.729753e+06</td>\n    </tr>\n    <tr>\n      <th>100002</th>\n      <td>5.584553e+06</td>\n    </tr>\n    <tr>\n      <th>100003</th>\n      <td>2.121393e+06</td>\n    </tr>\n    <tr>\n      <th>100004</th>\n      <td>3.328387e+06</td>\n    </tr>\n  </tbody>\n</table>\n</div>"
     },
     "metadata": {},
     "execution_count": 67
    }
   ],
   "source": [
    "pd_test_preds.index = tedf.index\n",
    "pd_test_preds.columns = ['price']\n",
    "pd_test_preds.head()"
   ]
  },
  {
   "cell_type": "code",
   "execution_count": 68,
   "metadata": {},
   "outputs": [],
   "source": [
    "pd_test_preds.to_csv('sampleSubmission.csv',sep=',')"
   ]
  },
  {
   "cell_type": "code",
   "execution_count": null,
   "metadata": {},
   "outputs": [],
   "source": []
  }
 ]
}